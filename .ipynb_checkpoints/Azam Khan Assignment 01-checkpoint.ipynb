{
 "cells": [
  {
   "cell_type": "code",
   "execution_count": null,
   "id": "4c2224cd-4bf6-48a3-bc27-527833713352",
   "metadata": {},
   "outputs": [],
   "source": [
    "Write a program that takes two numbers (a = 15 , b = 4) and prints their:\n",
    "Sum\n",
    "\n",
    "Difference\n",
    "\n",
    "Product\n",
    "\n",
    "Division\n",
    "\n",
    "Floor Division\n",
    "\n",
    "Modulus"
   ]
  },
  {
   "cell_type": "code",
   "execution_count": null,
   "id": "adc5fda4-0c88-4f64-a758-45a28abf8a1a",
   "metadata": {},
   "outputs": [],
   "source": [
    "a = 15\n",
    "b = 4\n",
    "\n",
    "print (a+b)"
   ]
  },
  {
   "cell_type": "code",
   "execution_count": null,
   "id": "b593f519-7878-40fa-ba04-4cc1570d6993",
   "metadata": {},
   "outputs": [],
   "source": [
    "print(a-b)"
   ]
  },
  {
   "cell_type": "code",
   "execution_count": null,
   "id": "298c0b6d-a236-4ee4-869e-459b409304c8",
   "metadata": {},
   "outputs": [],
   "source": [
    "print(a*b)"
   ]
  },
  {
   "cell_type": "code",
   "execution_count": null,
   "id": "f65dacbc-2984-4d43-b9a1-7c4bf22cc673",
   "metadata": {},
   "outputs": [],
   "source": [
    "print(a/b)"
   ]
  },
  {
   "cell_type": "code",
   "execution_count": null,
   "id": "6f168b6c-ae68-424a-a266-19d5976ef37e",
   "metadata": {},
   "outputs": [],
   "source": [
    "print(a//b)"
   ]
  },
  {
   "cell_type": "code",
   "execution_count": null,
   "id": "00ea8fef-eff6-4887-bde5-996ee1c3fd49",
   "metadata": {},
   "outputs": [],
   "source": [
    "print(a%b)"
   ]
  },
  {
   "cell_type": "code",
   "execution_count": null,
   "id": "cd820e34-6141-405d-ac7a-67de3e1bfebf",
   "metadata": {},
   "outputs": [],
   "source": [
    "Convert the following: (num1 = 10, num2 = 5.6, num3 = 4.43)\n",
    "Integer to float\n",
    "\n",
    "Float to integer\n",
    "\n",
    "Float to String"
   ]
  },
  {
   "cell_type": "code",
   "execution_count": null,
   "id": "f3f4774a-ad9f-41d5-9498-890596804d85",
   "metadata": {},
   "outputs": [],
   "source": [
    "num1=10\n",
    "num2=5.6\n",
    "num3=4.43"
   ]
  },
  {
   "cell_type": "code",
   "execution_count": null,
   "id": "dc6cefbf-25d2-415a-9c5f-c1155076bfef",
   "metadata": {},
   "outputs": [],
   "source": [
    "#Integer to Float\n",
    "float(10)"
   ]
  },
  {
   "cell_type": "code",
   "execution_count": null,
   "id": "45d8ee35-5c23-4ced-ba1c-b774b9edd670",
   "metadata": {},
   "outputs": [],
   "source": [
    "#Float to Integer\n",
    "int(5.6)"
   ]
  },
  {
   "cell_type": "code",
   "execution_count": null,
   "id": "68950fab-0767-4983-9332-49b593193162",
   "metadata": {},
   "outputs": [],
   "source": [
    "#Float to String\n",
    "str(4.43)"
   ]
  },
  {
   "cell_type": "code",
   "execution_count": null,
   "id": "2f6a06b2-a0e4-41ed-8a09-2a2ccaab38be",
   "metadata": {},
   "outputs": [],
   "source": [
    "fruits = [\"apple\", \"banana\", \"cherry\", \"coconut\", \"pineapple\", \"mango\", \"orange\"]\n",
    "Print below using indexing:\n",
    "\n",
    "The first fruit\n",
    "\n",
    "The last fruit (negative indexing)\n",
    "\n",
    "The fourth fruit"
   ]
  },
  {
   "cell_type": "code",
   "execution_count": null,
   "id": "3cfe554b-b5e2-49a5-8b51-ff3b48cbef96",
   "metadata": {},
   "outputs": [],
   "source": [
    "fruits = [\"apple\",\"banana\",\"cherry\",\"coconut\",\"pineapple\",\"mango\",\"orange\"]"
   ]
  },
  {
   "cell_type": "code",
   "execution_count": null,
   "id": "100dfd3b-a919-4ab6-b3a0-f980f33169f6",
   "metadata": {},
   "outputs": [],
   "source": [
    "fruits"
   ]
  },
  {
   "cell_type": "code",
   "execution_count": null,
   "id": "6fa3efda-109e-401f-9f05-829952f77cb4",
   "metadata": {},
   "outputs": [],
   "source": [
    "fruits[0]"
   ]
  },
  {
   "cell_type": "code",
   "execution_count": null,
   "id": "feb5c10b-560f-47aa-adfa-e8b03b7a3ad0",
   "metadata": {},
   "outputs": [],
   "source": [
    "fruits[-1]"
   ]
  },
  {
   "cell_type": "code",
   "execution_count": null,
   "id": "1e974f00-a531-4d77-9fe0-754b2b5012b0",
   "metadata": {},
   "outputs": [],
   "source": [
    "fruits[4]"
   ]
  },
  {
   "cell_type": "code",
   "execution_count": null,
   "id": "f29aa89b-7719-4b09-ab51-9f897b99d0a3",
   "metadata": {},
   "outputs": [],
   "source": [
    "List Slicing\n",
    "numbers = [10, 20, 30, 40, 50]\n",
    "\n",
    "Print:\n",
    "\n",
    "First three elements\n",
    "\n",
    "Last two elements\n",
    "\n",
    "Print all elements except the first one\n",
    "\n",
    "Print all elements except the last one\n",
    "\n",
    "Print the list in reverse using slicing\n",
    "\n",
    "Print every second element"
   ]
  },
  {
   "cell_type": "code",
   "execution_count": null,
   "id": "7b0b7c34-48d9-4a61-bd06-966b5bf0c462",
   "metadata": {},
   "outputs": [],
   "source": [
    "numbers=[10,20,30,40,50]"
   ]
  },
  {
   "cell_type": "code",
   "execution_count": null,
   "id": "7b7305f5-a41c-414f-8143-adb43d26212b",
   "metadata": {},
   "outputs": [],
   "source": [
    "numbers"
   ]
  },
  {
   "cell_type": "code",
   "execution_count": null,
   "id": "925ad870-0d43-48b8-9d36-8568b4f0f1e7",
   "metadata": {},
   "outputs": [],
   "source": [
    "numbers[0:3]"
   ]
  },
  {
   "cell_type": "code",
   "execution_count": null,
   "id": "00be1c59-890f-41d7-8c3b-027570af16f6",
   "metadata": {},
   "outputs": [],
   "source": [
    "numbers[3:5]"
   ]
  },
  {
   "cell_type": "code",
   "execution_count": null,
   "id": "eb3f5a67-8290-4f6e-9382-7fd9b9e27fa5",
   "metadata": {},
   "outputs": [],
   "source": [
    "numbers[1:5]"
   ]
  },
  {
   "cell_type": "code",
   "execution_count": null,
   "id": "42f27722-2c76-41e0-8fde-bfecd4cebea3",
   "metadata": {},
   "outputs": [],
   "source": [
    "numbers[0:4]"
   ]
  },
  {
   "cell_type": "code",
   "execution_count": null,
   "id": "124f323a-5a6c-4c02-8c4c-5fe7bfa81e2e",
   "metadata": {},
   "outputs": [],
   "source": [
    "Add the number 10 to the end of the list using method.\n",
    "nums = [1, 2, 3]"
   ]
  },
  {
   "cell_type": "code",
   "execution_count": 5,
   "id": "eb34f59b-064a-4e38-ba22-bc940f764b7a",
   "metadata": {},
   "outputs": [],
   "source": [
    "num=[1,2,3]"
   ]
  },
  {
   "cell_type": "code",
   "execution_count": 6,
   "id": "265b4812-2468-4085-873e-1d9867276bc0",
   "metadata": {},
   "outputs": [
    {
     "data": {
      "text/plain": [
       "[1, 2, 3]"
      ]
     },
     "execution_count": 6,
     "metadata": {},
     "output_type": "execute_result"
    }
   ],
   "source": [
    "num"
   ]
  },
  {
   "cell_type": "code",
   "execution_count": 7,
   "id": "ae7016ae-9b45-4790-bfb9-59b016a3cfbd",
   "metadata": {},
   "outputs": [],
   "source": [
    "num.append(10)"
   ]
  },
  {
   "cell_type": "code",
   "execution_count": 8,
   "id": "29c78a35-e1bc-4103-a7e0-f7af06704d36",
   "metadata": {},
   "outputs": [
    {
     "data": {
      "text/plain": [
       "[1, 2, 3, 10]"
      ]
     },
     "execution_count": 8,
     "metadata": {},
     "output_type": "execute_result"
    }
   ],
   "source": [
    "num"
   ]
  },
  {
   "cell_type": "code",
   "execution_count": null,
   "id": "248d7734-5ba4-4e32-a97b-93f7a432d747",
   "metadata": {},
   "outputs": [],
   "source": [
    "Insert the number 99 at index 1 using method."
   ]
  },
  {
   "cell_type": "code",
   "execution_count": 30,
   "id": "419230c2-a9d7-4aff-b3d8-db3e10a1431c",
   "metadata": {},
   "outputs": [
    {
     "data": {
      "text/plain": [
       "[1, 2, 3]"
      ]
     },
     "execution_count": 30,
     "metadata": {},
     "output_type": "execute_result"
    }
   ],
   "source": [
    "nums = [1, 2, 3]\n",
    "\n",
    "nums"
   ]
  },
  {
   "cell_type": "code",
   "execution_count": 31,
   "id": "d4fc7053-f75d-48ec-a39b-158116c9df1a",
   "metadata": {},
   "outputs": [],
   "source": [
    "nums.insert(0,99)"
   ]
  },
  {
   "cell_type": "code",
   "execution_count": 32,
   "id": "4e03a7c0-68d7-48bf-99df-607f5ee3b63b",
   "metadata": {},
   "outputs": [
    {
     "data": {
      "text/plain": [
       "[99, 1, 2, 3]"
      ]
     },
     "execution_count": 32,
     "metadata": {},
     "output_type": "execute_result"
    }
   ],
   "source": [
    "nums"
   ]
  },
  {
   "cell_type": "code",
   "execution_count": null,
   "id": "a19faaea-bb78-4489-883f-37393da6a8ee",
   "metadata": {},
   "outputs": [],
   "source": [
    "Add the elements of another list [4, 5] to the original list using method\n",
    "nums = [1, 2, 3]"
   ]
  },
  {
   "cell_type": "code",
   "execution_count": 33,
   "id": "9dc20da4-e716-4f90-9f00-71c326346637",
   "metadata": {},
   "outputs": [],
   "source": [
    "nums=[1, 2, 3]"
   ]
  },
  {
   "cell_type": "code",
   "execution_count": 34,
   "id": "bf5c76e8-4252-40e2-be55-1a512014c120",
   "metadata": {},
   "outputs": [
    {
     "data": {
      "text/plain": [
       "[1, 2, 3]"
      ]
     },
     "execution_count": 34,
     "metadata": {},
     "output_type": "execute_result"
    }
   ],
   "source": [
    "nums"
   ]
  },
  {
   "cell_type": "code",
   "execution_count": 35,
   "id": "bc0c22b9-551e-42fe-8865-cdc5cb5fc3a2",
   "metadata": {},
   "outputs": [],
   "source": [
    "num2=[4, 5]"
   ]
  },
  {
   "cell_type": "code",
   "execution_count": 36,
   "id": "3be9b246-d5bb-4fe7-bab2-f2647e9e25bc",
   "metadata": {},
   "outputs": [
    {
     "data": {
      "text/plain": [
       "[4, 5]"
      ]
     },
     "execution_count": 36,
     "metadata": {},
     "output_type": "execute_result"
    }
   ],
   "source": [
    "num2"
   ]
  },
  {
   "cell_type": "code",
   "execution_count": 38,
   "id": "2d189876-aaa2-48d4-b3b8-eda97eb18880",
   "metadata": {},
   "outputs": [],
   "source": [
    "nums.extend(num2)"
   ]
  },
  {
   "cell_type": "code",
   "execution_count": 39,
   "id": "1ff0d138-dc2e-4119-a40e-e69a6da44fc7",
   "metadata": {},
   "outputs": [
    {
     "data": {
      "text/plain": [
       "[1, 2, 3, 4, 5]"
      ]
     },
     "execution_count": 39,
     "metadata": {},
     "output_type": "execute_result"
    }
   ],
   "source": [
    "nums"
   ]
  },
  {
   "cell_type": "code",
   "execution_count": null,
   "id": "93669f90-1079-4b44-bb69-8fc6cd97193f",
   "metadata": {},
   "outputs": [],
   "source": [
    "Sort the list in ascending order using method\n",
    "nums = [4, 1, 3, 2]"
   ]
  },
  {
   "cell_type": "code",
   "execution_count": 41,
   "id": "d2c86baa-3dea-4cc0-9667-1e5e2da047ba",
   "metadata": {},
   "outputs": [],
   "source": [
    "nums=[4,1,3,2]"
   ]
  },
  {
   "cell_type": "code",
   "execution_count": 42,
   "id": "51fef7da-7a0d-40fa-ae86-ac6923fb049c",
   "metadata": {},
   "outputs": [
    {
     "data": {
      "text/plain": [
       "[4, 1, 3, 2]"
      ]
     },
     "execution_count": 42,
     "metadata": {},
     "output_type": "execute_result"
    }
   ],
   "source": [
    "nums"
   ]
  },
  {
   "cell_type": "code",
   "execution_count": 43,
   "id": "dea233b9-7a0f-4d79-870a-494b533274b4",
   "metadata": {},
   "outputs": [],
   "source": [
    "nums.sort()"
   ]
  },
  {
   "cell_type": "code",
   "execution_count": 44,
   "id": "9ba80153-ff0e-41b9-85cd-1d9827b164a6",
   "metadata": {},
   "outputs": [
    {
     "data": {
      "text/plain": [
       "[1, 2, 3, 4]"
      ]
     },
     "execution_count": 44,
     "metadata": {},
     "output_type": "execute_result"
    }
   ],
   "source": [
    "nums"
   ]
  },
  {
   "cell_type": "code",
   "execution_count": null,
   "id": "89768bc2-ec0d-4603-8f56-5144f5d607f0",
   "metadata": {},
   "outputs": [],
   "source": [
    "A customer orders several food items. Add the items to a list and then:\n",
    "order = [\"biryani\",\"burger\", \"fries\", \"coke\"]\n",
    "\n",
    "Add a new item \"ice cream\" using append()\n",
    "\n",
    "Remove an item \"biryani\" using remove()\n",
    "\n",
    "Show the final order"
   ]
  },
  {
   "cell_type": "code",
   "execution_count": 47,
   "id": "9861cfd3-d44a-45b9-ba90-32900a4ebc89",
   "metadata": {},
   "outputs": [
    {
     "data": {
      "text/plain": [
       "['biryani', 'burger', 'fries', 'coke']"
      ]
     },
     "execution_count": 47,
     "metadata": {},
     "output_type": "execute_result"
    }
   ],
   "source": [
    "order=[\"biryani\",\"burger\",\"fries\",\"coke\"]\n",
    "\n",
    "order"
   ]
  },
  {
   "cell_type": "code",
   "execution_count": 48,
   "id": "67de128c-6a0c-4ea1-be94-172447d4d0d5",
   "metadata": {},
   "outputs": [],
   "source": [
    "order.append(\"ice cream\")"
   ]
  },
  {
   "cell_type": "code",
   "execution_count": 49,
   "id": "aa3e6008-7a8d-4ec3-9365-5e27384dc926",
   "metadata": {},
   "outputs": [
    {
     "data": {
      "text/plain": [
       "['biryani', 'burger', 'fries', 'coke', 'ice cream']"
      ]
     },
     "execution_count": 49,
     "metadata": {},
     "output_type": "execute_result"
    }
   ],
   "source": [
    "order"
   ]
  },
  {
   "cell_type": "code",
   "execution_count": 50,
   "id": "1f437dca-fbc0-4a67-9c0a-b3bd3d2224cf",
   "metadata": {},
   "outputs": [],
   "source": [
    "order.remove(\"biryani\")"
   ]
  },
  {
   "cell_type": "code",
   "execution_count": 51,
   "id": "f5450f02-41b6-4925-9b83-35f5f461c21f",
   "metadata": {},
   "outputs": [
    {
     "data": {
      "text/plain": [
       "['burger', 'fries', 'coke', 'ice cream']"
      ]
     },
     "execution_count": 51,
     "metadata": {},
     "output_type": "execute_result"
    }
   ],
   "source": [
    "order"
   ]
  },
  {
   "cell_type": "code",
   "execution_count": null,
   "id": "a0d73d61-ee52-4d4a-998b-31fe899d99c9",
   "metadata": {},
   "outputs": [],
   "source": [
    "Track passengers on a bus:\n",
    "passengers = [\"Ali\", \"Zara\", \"Ahmed\"]\n",
    "\n",
    "Insert a new passenger \"Sara\" at position 2\n",
    "\n",
    "Remove passesnger who got off \"Zara\"\n",
    "\n",
    "Reverse the order to show who entered first"
   ]
  },
  {
   "cell_type": "code",
   "execution_count": 52,
   "id": "6150d49d-c9aa-482c-a16f-ba023df425dc",
   "metadata": {},
   "outputs": [
    {
     "data": {
      "text/plain": [
       "['Ali', 'Zara', 'Ahmed']"
      ]
     },
     "execution_count": 52,
     "metadata": {},
     "output_type": "execute_result"
    }
   ],
   "source": [
    "passengers= [\"Ali\",\"Zara\",\"Ahmed\"]\n",
    "\n",
    "passengers"
   ]
  },
  {
   "cell_type": "code",
   "execution_count": 53,
   "id": "6812860c-a473-40d0-a2a7-ad97dbce6e4d",
   "metadata": {},
   "outputs": [],
   "source": [
    "passengers.insert(2, \"Sara\")"
   ]
  },
  {
   "cell_type": "code",
   "execution_count": 54,
   "id": "3203d2cd-09e2-4143-8b48-5a0c83832dda",
   "metadata": {},
   "outputs": [
    {
     "data": {
      "text/plain": [
       "['Ali', 'Zara', 'Sara', 'Ahmed']"
      ]
     },
     "execution_count": 54,
     "metadata": {},
     "output_type": "execute_result"
    }
   ],
   "source": [
    "passengers"
   ]
  },
  {
   "cell_type": "code",
   "execution_count": 55,
   "id": "17dd92c3-5be8-404e-ae90-c7fae69faa1d",
   "metadata": {},
   "outputs": [],
   "source": [
    "passengers.remove(\"Zara\")"
   ]
  },
  {
   "cell_type": "code",
   "execution_count": 56,
   "id": "6caf1bc9-b9e2-4f02-a902-713c70bb37e0",
   "metadata": {},
   "outputs": [
    {
     "data": {
      "text/plain": [
       "['Ali', 'Sara', 'Ahmed']"
      ]
     },
     "execution_count": 56,
     "metadata": {},
     "output_type": "execute_result"
    }
   ],
   "source": [
    "passengers"
   ]
  },
  {
   "cell_type": "code",
   "execution_count": 57,
   "id": "97324e7a-7bc6-42ff-aa89-8ccc5deb11b1",
   "metadata": {},
   "outputs": [],
   "source": [
    "passengers.reverse()"
   ]
  },
  {
   "cell_type": "code",
   "execution_count": 58,
   "id": "e3a73e17-f4c5-4956-b427-5b08006512a5",
   "metadata": {},
   "outputs": [
    {
     "data": {
      "text/plain": [
       "['Ahmed', 'Sara', 'Ali']"
      ]
     },
     "execution_count": 58,
     "metadata": {},
     "output_type": "execute_result"
    }
   ],
   "source": [
    "passengers"
   ]
  },
  {
   "cell_type": "code",
   "execution_count": null,
   "id": "9234aeac-e78e-4cf6-8f8e-8e66cf13bca1",
   "metadata": {},
   "outputs": [],
   "source": []
  },
  {
   "cell_type": "code",
   "execution_count": null,
   "id": "3b78c6d0-a393-4c00-8c2b-cedc2fc42f3b",
   "metadata": {},
   "outputs": [],
   "source": []
  }
 ],
 "metadata": {
  "kernelspec": {
   "display_name": "Python 3 (ipykernel)",
   "language": "python",
   "name": "python3"
  },
  "language_info": {
   "codemirror_mode": {
    "name": "ipython",
    "version": 3
   },
   "file_extension": ".py",
   "mimetype": "text/x-python",
   "name": "python",
   "nbconvert_exporter": "python",
   "pygments_lexer": "ipython3",
   "version": "3.12.7"
  }
 },
 "nbformat": 4,
 "nbformat_minor": 5
}
